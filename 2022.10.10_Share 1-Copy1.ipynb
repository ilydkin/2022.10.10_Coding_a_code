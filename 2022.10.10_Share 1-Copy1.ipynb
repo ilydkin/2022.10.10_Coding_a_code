{
 "cells": [
  {
   "cell_type": "code",
   "execution_count": 2,
   "id": "68f27229",
   "metadata": {},
   "outputs": [],
   "source": [
    "applications = [\n",
    "         'name=Аня,phone=8800234 ,city=москва',\n",
    "         'name=КОЛЯ,phone=8800900871 ,city=МОСКВА',\n",
    "         'name=Валентина,phone=7950900871 ,city=волгоград',\n",
    "         'name=,phone=7999901871,city=москва',\n",
    "         'name=Иван,phone=7999901871,city=москва',\n",
    "         'name=Инга,phone=,city=москва'\n",
    "] "
   ]
  },
  {
   "cell_type": "code",
   "execution_count": 43,
   "id": "4b5f1014",
   "metadata": {},
   "outputs": [],
   "source": [
    "def check_phone (phone):\n",
    "    if len (phone) == 10:\n",
    "        if phone [0] == \"7\" or \"8\":\n",
    "            return True"
   ]
  },
  {
   "cell_type": "code",
   "execution_count": 44,
   "id": "d40028fe",
   "metadata": {},
   "outputs": [],
   "source": [
    "def check_city (city):\n",
    "    if city == \"москва\":\n",
    "        return True"
   ]
  },
  {
   "cell_type": "code",
   "execution_count": 45,
   "id": "00dd2bd2",
   "metadata": {},
   "outputs": [],
   "source": [
    "def check_application (application):\n",
    "    norm_app = application.replace(\" \", \"\").lower().split(\",\")\n",
    "    for elem in norm_app:\n",
    "        if elem.find(\"phone\") != -1:\n",
    "            phone =  elem.replace(\"phone=\", \"\")\n",
    "        if  elem.find(\"city\") != -1:\n",
    "            city =  elem.replace (\"city=\", \"\")\n",
    "    if check_phone(phone) == True and check_city (city) == True:\n",
    "         return True\n",
    "    else:\n",
    "         return False"
   ]
  },
  {
   "cell_type": "code",
   "execution_count": 46,
   "id": "ebafa9f3",
   "metadata": {},
   "outputs": [
    {
     "data": {
      "text/plain": [
       "True"
      ]
     },
     "execution_count": 46,
     "metadata": {},
     "output_type": "execute_result"
    }
   ],
   "source": [
    "application = 'name=Аня,phone=8888800234 ,city=москва'\n",
    "check_application (application)"
   ]
  },
  {
   "cell_type": "code",
   "execution_count": 47,
   "id": "286e33e7",
   "metadata": {},
   "outputs": [],
   "source": [
    "def find_valid_applications (applications):\n",
    "    for application in applications:\n",
    "        application = str (application)\n",
    "        print (f\"{application} --- {check_application(application)}\")"
   ]
  },
  {
   "cell_type": "code",
   "execution_count": 48,
   "id": "3eea8b8e",
   "metadata": {},
   "outputs": [
    {
     "name": "stdout",
     "output_type": "stream",
     "text": [
      "name=Аня,phone=8800234 ,city=москва --- False\n",
      "name=КОЛЯ,phone=8800900871 ,city=МОСКВА --- True\n",
      "name=Валентина,phone=7950900871 ,city=волгоград --- False\n",
      "name=,phone=7999901871,city=москва --- True\n",
      "name=Иван,phone=7999901871,city=москва --- True\n",
      "name=Инга,phone=,city=москва --- False\n"
     ]
    }
   ],
   "source": [
    "find_valid_applications(applications)"
   ]
  },
  {
   "cell_type": "code",
   "execution_count": null,
   "id": "8522e138",
   "metadata": {},
   "outputs": [],
   "source": []
  }
 ],
 "metadata": {
  "kernelspec": {
   "display_name": "Python 3 (ipykernel)",
   "language": "python",
   "name": "python3"
  },
  "language_info": {
   "codemirror_mode": {
    "name": "ipython",
    "version": 3
   },
   "file_extension": ".py",
   "mimetype": "text/x-python",
   "name": "python",
   "nbconvert_exporter": "python",
   "pygments_lexer": "ipython3",
   "version": "3.9.12"
  }
 },
 "nbformat": 4,
 "nbformat_minor": 5
}
