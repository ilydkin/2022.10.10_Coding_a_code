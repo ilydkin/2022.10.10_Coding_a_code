{
 "cells": [
  {
   "cell_type": "code",
   "execution_count": 29,
   "metadata": {},
   "outputs": [],
   "source": [
    "applications = [\n",
    "         'name=Аня,phone=8800234 ,city=москва',\n",
    "         'name=КОЛЯ,phone=8800900871 ,city=МОСКВА',\n",
    "         'name=Валентина,phone=7950900871 ,city=волгоград',\n",
    "         'name=,phone=7999901871,city=москва',\n",
    "         'name=Иван,phone=7999901871,city=москва',\n",
    "         'name=Инга,phone=,city=москва',\n",
    "         'name=NoPhone,city=москва',\n",
    "         'name=noCity,phone='\n",
    "] "
   ]
  },
  {
   "cell_type": "code",
   "execution_count": 30,
   "metadata": {},
   "outputs": [],
   "source": [
    "def check_phone (phone):\n",
    "    return len(phone) == 10 and (phone[0] == \"7\" or \"8\")"
   ]
  },
  {
   "cell_type": "code",
   "execution_count": 31,
   "metadata": {},
   "outputs": [],
   "source": [
    "def check_city (city):\n",
    "    return city == \"москва\""
   ]
  },
  {
   "cell_type": "code",
   "execution_count": 32,
   "metadata": {},
   "outputs": [],
   "source": [
    "def check_application (application):\n",
    "    phone = \"\"\n",
    "    city  = \"\"\n",
    "    \n",
    "    norm_app = application.replace(\" \", \"\").lower().split(\",\")\n",
    "    for elem in norm_app:\n",
    "        split_elem = elem.split(\"=\")\n",
    "        \n",
    "        if (split_elem[0] == \"phone\"):\n",
    "            phone = split_elem[1]\n",
    "        \n",
    "        if (split_elem[0] == \"city\"):\n",
    "            city = split_elem[1]\n",
    "\n",
    "    if (not (phone and city)):\n",
    "        return False\n",
    "\n",
    "    return check_phone(phone) and check_city (city)"
   ]
  },
  {
   "cell_type": "code",
   "execution_count": 33,
   "metadata": {},
   "outputs": [
    {
     "data": {
      "text/plain": "True"
     },
     "execution_count": 33,
     "metadata": {},
     "output_type": "execute_result"
    }
   ],
   "source": [
    "application = 'name=Аня,phone=8888800234 ,city=москва'\n",
    "check_application (application)"
   ]
  },
  {
   "cell_type": "code",
   "execution_count": 34,
   "metadata": {},
   "outputs": [],
   "source": [
    "def find_valid_applications (applications):\n",
    "    for application in applications:\n",
    "        application = str (application)\n",
    "        print (f\"{application} --- {check_application(application)}\")"
   ]
  },
  {
   "cell_type": "code",
   "execution_count": 35,
   "metadata": {},
   "outputs": [
    {
     "name": "stdout",
     "output_type": "stream",
     "text": [
      "name=Аня,phone=8800234 ,city=москва --- False\n",
      "name=КОЛЯ,phone=8800900871 ,city=МОСКВА --- True\n",
      "name=Валентина,phone=7950900871 ,city=волгоград --- False\n",
      "name=,phone=7999901871,city=москва --- True\n",
      "name=Иван,phone=7999901871,city=москва --- True\n",
      "name=Инга,phone=,city=москва --- False\n",
      "name=NoPhone,city=москва --- False\n",
      "name=noCity,phone= --- False\n"
     ]
    }
   ],
   "source": [
    "find_valid_applications(applications)"
   ]
  },
  {
   "cell_type": "code",
   "execution_count": null,
   "metadata": {},
   "outputs": [],
   "source": []
  }
 ],
 "metadata": {
  "kernelspec": {
   "display_name": "Python 3",
   "language": "python",
   "name": "python3"
  },
  "language_info": {
   "codemirror_mode": {
    "name": "ipython",
    "version": 3
   },
   "file_extension": ".py",
   "mimetype": "text/x-python",
   "name": "python",
   "nbconvert_exporter": "python",
   "pygments_lexer": "ipython3",
   "version": "3.8.5"
  }
 },
 "nbformat": 4,
 "nbformat_minor": 5
}